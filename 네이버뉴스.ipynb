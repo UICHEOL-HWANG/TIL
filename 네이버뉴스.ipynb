{
 "cells": [
  {
   "cell_type": "code",
   "execution_count": 273,
   "id": "5b1d29a1-c1fc-4b57-8a95-31eb2b79e4d4",
   "metadata": {},
   "outputs": [],
   "source": [
    "import requests\n",
    "import pandas as pd\n",
    "from bs4 import BeautifulSoup\n",
    "headers = {\"User-Agent\":\"Mozilla/5.0 (Windows NT 10.0; Win64; x64) AppleWebKit/537.36 (KHTML, like Gecko) Chrome/104.0.0.0 Safari/537.36\"}\n",
    "import csv\n",
    "from openpyxl import Workbook"
   ]
  },
  {
   "cell_type": "code",
   "execution_count": 199,
   "id": "6ef2313e-fa97-460c-9764-df52bdc37418",
   "metadata": {},
   "outputs": [],
   "source": [
    "url = \"https://news.naver.com/main/clusterArticles.naver?id=c_202208181110_00000014&mode=LSD&mid=shm&sid1=101&oid=422&aid=0000556358\"\n",
    "response = requests.get(url, headers=headers)\n",
    "soup = BeautifulSoup(response.text, 'html.parser')\n"
   ]
  },
  {
   "cell_type": "code",
   "execution_count": 267,
   "id": "46acc94f-8940-4d24-ae39-44bc64d834c3",
   "metadata": {},
   "outputs": [],
   "source": [
    "article = soup.find_all(\"td\",{\"class\":\"content\"})"
   ]
  },
  {
   "cell_type": "code",
   "execution_count": 278,
   "id": "e3d6b354-0d29-466c-b5b4-0e96bf9d9609",
   "metadata": {},
   "outputs": [],
   "source": [
    "su = []\n",
    "su_list = []\n",
    "ts = [] \n",
    "\n",
    "for i in article:\n",
    "    title = i.find_all(\"a\",{\"class\":\"nclicks(cls_eco.clsart1)\"})\n",
    "    press = i.find_all(\"span\",{\"class\":\"writing\"})\n",
    "    lede = i.find_all(\"span\",{\"class\":\"lede\"})\n",
    "    date = i.find_all(\"span\",{\"class\":\"date\"})\n",
    "    for a,b,c,d,e in zip(title,title,press,lede,date):\n",
    "        titles = a.get_text()\n",
    "        link = b.get(\"href\")\n",
    "        press_1 = c.get_text()\n",
    "        ledes = d.get_text()\n",
    "        date = e.text\n",
    "        \n",
    "        su.append(titles)\n",
    "        su.append(link)\n",
    "        su.append(press_1)\n",
    "        su.append(ledes)\n",
    "        su.append(date)\n",
    "       \n",
    "        ts.append([titles,ledes,link,press_1,date])\n",
    "        su_list.append(su)\n",
    "        wb = Workbook()\n",
    "        ws = wb.active\n",
    "        \n",
    "        for data in ts:\n",
    "            ws.append(data)\n",
    "       "
   ]
  },
  {
   "cell_type": "code",
   "execution_count": null,
   "id": "055972b0-4a2f-4e8c-adc9-419842f58d62",
   "metadata": {},
   "outputs": [],
   "source": []
  }
 ],
 "metadata": {
  "kernelspec": {
   "display_name": "Python 3 (ipykernel)",
   "language": "python",
   "name": "python3"
  },
  "language_info": {
   "codemirror_mode": {
    "name": "ipython",
    "version": 3
   },
   "file_extension": ".py",
   "mimetype": "text/x-python",
   "name": "python",
   "nbconvert_exporter": "python",
   "pygments_lexer": "ipython3",
   "version": "3.9.12"
  }
 },
 "nbformat": 4,
 "nbformat_minor": 5
}
