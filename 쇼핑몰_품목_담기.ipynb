{
 "cells": [
  {
   "cell_type": "code",
   "execution_count": 2,
   "id": "8b7ef1fd-fbed-4741-86f7-58f8da1da568",
   "metadata": {},
   "outputs": [],
   "source": [
    "from selenium.webdriver.common.by import By\n",
    "from bs4 import BeautifulSoup as bs\n",
    "from selenium import webdriver\n",
    "import time\n",
    "from selenium.webdriver.common.keys import Keys\n",
    "import csv\n",
    "headers = {\"User-Agent\":\"Mozilla/5.0 (Windows NT 10.0; Win64; x64) AppleWebKit/537.36 (KHTML, like Gecko) Chrome/104.0.0.0 Safari/537.36\"}\n",
    "from openpyxl import Workbook"
   ]
  },
  {
   "cell_type": "code",
   "execution_count": null,
   "id": "cae6fa3c-c37d-4ad6-a02c-63c83c90ef46",
   "metadata": {},
   "outputs": [
    {
     "name": "stderr",
     "output_type": "stream",
     "text": [
      "C:\\Users\\UICHEOL_HWANG\\AppData\\Local\\Temp\\ipykernel_25244\\674902803.py:1: DeprecationWarning: executable_path has been deprecated, please pass in a Service object\n",
      "  driver = webdriver.Chrome('./chromedriver.exe')\n"
     ]
    }
   ],
   "source": [
    "driver = webdriver.Chrome('./chromedriver.exe')\n",
    "driver.get('http://mall.kidkids.net/')\n",
    "driver.find_element(By.CSS_SELECTOR,'#store_popup_area > a > img').click()\n",
    "time.sleep(1) \n",
    "driver.find_element(By.CSS_SELECTOR,'#mall_top_menu > div > ul.mall_top_nav.clearfix > li:nth-child(2) > a').click()\n",
    "time.sleep(1)\n",
    "week = driver.find_elements(By.CLASS_NAME,'sch_txt')\n",
    "\n",
    "time.sleep(1)\n",
    "    \n",
    "for i in week:\n",
    "    name = i.find_element(By.TAG_NAME,\"h4\").text\n",
    "    price = i.find_element(By.CLASS_NAME,\"num\").text\n",
    "    "
   ]
  },
  {
   "cell_type": "code",
   "execution_count": 160,
   "id": "ca9da640-f6e3-484e-871a-30d2a804a117",
   "metadata": {},
   "outputs": [
    {
     "name": "stderr",
     "output_type": "stream",
     "text": [
      "C:\\Users\\UICHEOL_HWANG\\AppData\\Local\\Temp\\ipykernel_3132\\4112685304.py:1: DeprecationWarning: executable_path has been deprecated, please pass in a Service object\n",
      "  driver = webdriver.Chrome('./chromedriver.exe')\n"
     ]
    }
   ],
   "source": [
    "driver = webdriver.Chrome('./chromedriver.exe')\n",
    "driver.get('https://a-fresh.co.kr/')\n",
    "driver.find_element(By.CSS_SELECTOR,\"#category_warp > div.category_list > div > div > div:nth-child(5) > a\").click()\n",
    "time.sleep(1)\n",
    "li = driver.find_elements(By.CSS_SELECTOR,\"#contents > div.xans-element-.xans-product.xans-product-normalpackage.item_normal_display > div > ul> li \")\n",
    "\n",
    "su = []\n",
    "su_list = []\n",
    "ts = [] \n",
    "\n",
    "for i in li:\n",
    "    name = i.find_element(By.CLASS_NAME,\"prd_name.left\").text\n",
    "    link = i.find_element(By.TAG_NAME,\"a\").get_attribute(\"href\")\n",
    "    price = i.find_element(By.CLASS_NAME,'xans-record-.prd_price').text\n",
    "    su.append(name)\n",
    "    su.append(price)\n",
    "    su.append(link)\n",
    "    \n",
    "    ts.append([name,price,link])\n",
    "    su_list.append(su)\n",
    "    wb = Workbook()\n",
    "    ws = wb.active\n",
    "    \n",
    "    for data in ts: #엑셀 1줄씩 추가 \n",
    "        ws.append(data)\n",
    "    wb.save(\"./ex.xlsx\")"
   ]
  }
 ],
 "metadata": {
  "kernelspec": {
   "display_name": "Python 3 (ipykernel)",
   "language": "python",
   "name": "python3"
  },
  "language_info": {
   "codemirror_mode": {
    "name": "ipython",
    "version": 3
   },
   "file_extension": ".py",
   "mimetype": "text/x-python",
   "name": "python",
   "nbconvert_exporter": "python",
   "pygments_lexer": "ipython3",
   "version": "3.9.12"
  }
 },
 "nbformat": 4,
 "nbformat_minor": 5
}
