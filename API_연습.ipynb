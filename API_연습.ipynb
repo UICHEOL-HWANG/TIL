{
 "cells": [
  {
   "cell_type": "code",
   "execution_count": null,
   "id": "93fd29ed-602b-48cf-a22a-7a806ffcf16d",
   "metadata": {},
   "outputs": [],
   "source": [
    "import requests, xmltodict\n",
    "import json\n",
    "keyword = getpass.getpass(\"키 입력 >>\")\n",
    "import pandas as pd\n",
    "import csv\n",
    "\n",
    "url = f'http://apis.data.go.kr/4460000/GetCctvManageService/getCctvManagInfo?serviceKey={keyword}&pageIndex=100&firstIndex=1&dataType=XML'\n",
    "params ={'serviceKey' : keyword, 'pageIndex' : '10', 'firstIndex' : '1', 'dataType' : 'XML' }\n",
    "\n",
    "response = requests.get(url, params=params).content\n",
    "dict = xmltodict.parse(response)\n",
    "jsonString = json.dumps(dict['response']['body']['items'],ensure_ascii=False)\n",
    "jsonObj = json.loads(jsonString)\n",
    "\n",
    "df = pd.DataFrame(jsonObj['item'])\n",
    "df.columns = ['날짜', '수량/면적','지역명','지번주소','전화번호','도로명주소','시작연도','카메라화소수','경도','데이터기준일자','건물명','사용여부','위도']\n",
    "df.set_index(\"시작연도\",inplace=True)"
   ]
  },
  {
   "cell_type": "code",
   "execution_count": 44,
   "id": "f9270b90-e60a-4dc4-94b5-a7d6011f94a6",
   "metadata": {},
   "outputs": [],
   "source": [
    "df.to_csv('충청북도 괴산군_cctv관리대장목록.csv',encoding='cp949',index= False)"
   ]
  }
 ],
 "metadata": {
  "kernelspec": {
   "display_name": "Python 3 (ipykernel)",
   "language": "python",
   "name": "python3"
  },
  "language_info": {
   "codemirror_mode": {
    "name": "ipython",
    "version": 3
   },
   "file_extension": ".py",
   "mimetype": "text/x-python",
   "name": "python",
   "nbconvert_exporter": "python",
   "pygments_lexer": "ipython3",
   "version": "3.9.12"
  }
 },
 "nbformat": 4,
 "nbformat_minor": 5
}
