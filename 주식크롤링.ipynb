{
 "cells": [
  {
   "cell_type": "code",
   "execution_count": 90,
   "id": "7d40cb7c-a723-4b59-8ded-24a5173fa0dd",
   "metadata": {},
   "outputs": [],
   "source": [
    "from selenium.webdriver.common.by import By\n",
    "from bs4 import BeautifulSoup as bs\n",
    "from selenium import webdriver\n",
    "import time\n",
    "from selenium.webdriver.common.keys import Keys\n",
    "import csv\n",
    "headers = {\"User-Agent\":\"Mozilla/5.0 (Windows NT 10.0; Win64; x64) AppleWebKit/537.36 (KHTML, like Gecko) Chrome/104.0.0.0 Safari/537.36\"}\n",
    "from openpyxl import Workbook\n",
    "import pandas as pd"
   ]
  },
  {
   "cell_type": "code",
   "execution_count": 126,
   "id": "48c23671-4b6f-4f7d-b324-4b3f4393573b",
   "metadata": {},
   "outputs": [
    {
     "name": "stderr",
     "output_type": "stream",
     "text": [
      "C:\\Users\\UICHEOL_HWANG\\AppData\\Local\\Temp\\ipykernel_20736\\2935033737.py:1: DeprecationWarning: executable_path has been deprecated, please pass in a Service object\n",
      "  driver = webdriver.Chrome('./chromedriver.exe')\n"
     ]
    }
   ],
   "source": [
    "driver = webdriver.Chrome('./chromedriver.exe')\n",
    "driver.get('https://finance.naver.com/')\n",
    "driver.find_element(By.CSS_SELECTOR,\"#menu > ul > li.m2 > a\").click()\n",
    "time.sleep(1)\n",
    "driver.find_element(By.CSS_SELECTOR,\"#newarea > div.snb.snb2 > ul > li.frst > ul > li.type1.lst1_16 > a\").click()\n",
    "\n",
    "name = driver.find_elements(By.CLASS_NAME,\"tltle\")\n",
    "number = driver.find_elements(By.XPATH,'//*[@id=\"contentarea\"]/div/table[1]/tbody/tr/td[3]')\n",
    "compare = driver.find_elements(By.XPATH,'//*[@id=\"contentarea\"]/div/table[1]/tbody/tr/td[4]')\n",
    "fluctuation = driver.find_elements(By.XPATH,'//*[@id=\"contentarea\"]/div/table[1]/tbody/tr/td[5]')\n",
    "face =  driver.find_elements(By.XPATH,'//*[@id=\"contentarea\"]/div/table[1]/tbody/tr/td[6]')\n",
    "market = driver.find_elements(By.XPATH,'//*[@id=\"contentarea\"]/div/table[1]/tbody/tr/td[7]')\n",
    "shares = driver.find_elements(By.XPATH,'//*[@id=\"contentarea\"]/div/table[1]/tbody/tr/td[8]')\n",
    "foreigner = driver.find_elements(By.XPATH,'//*[@id=\"contentarea\"]/div/table[1]/tbody/tr/td[9]')\n",
    "trading = driver.find_elements(By.XPATH,'//*[@id=\"contentarea\"]/div/table[1]/tbody/tr/td[10]')\n",
    "per = driver.find_elements(By.XPATH,'//*[@id=\"contentarea\"]/div/table[1]/tbody/tr/td[11]')\n",
    "roe = driver.find_elements(By.XPATH,'//*[@id=\"contentarea\"]/div/table[1]/tbody/tr/td[12]')"
   ]
  },
  {
   "cell_type": "code",
   "execution_count": 163,
   "id": "57bb985d-5fa1-4188-920d-e40061ebdfa3",
   "metadata": {},
   "outputs": [],
   "source": [
    "su = []\n",
    "su_list = []\n",
    "ts = [] \n",
    "for a,b,c,d,e,f,g,h,i,j,k in zip(name,number,compare,fluctuation,face,market,shares,foreigner,trading,per,roe):\n",
    "    names = a.text\n",
    "    price = b.text\n",
    "    compare_with = c.text\n",
    "    fluctuation_rate = d.text\n",
    "    face_value = e.text\n",
    "    market_cap = f.text\n",
    "    shares_number = g.text\n",
    "    foreign = h.text\n",
    "    trading_volume = i.text\n",
    "    per_ = j.text\n",
    "    roe_ = k.text\n",
    "    su.append(names)\n",
    "    su.append(price)\n",
    "    su.append(compare_with)\n",
    "    su.append(fluctuation_rate)\n",
    "    su.append(face_value)\n",
    "    su.append(market_cap)\n",
    "    su.append(shares_number)\n",
    "    su.append(foreign)\n",
    "    su.append(trading_volume)\n",
    "    su.append(per_)\n",
    "    su.append(roe_)\n",
    "    ts.append([names,price,compare_with,fluctuation_rate,face_value,market_cap,shares_number,foreign,trading_volume,per_,roe_])\n",
    "    su_list.append(su)\n",
    "    \n",
    "    wb = Workbook()\n",
    "    ws = wb.active\n",
    "    for data in ts:\n",
    "            ws.append(data)\n",
    "    wb.save(\"네이버주식.xlsx\")    \n",
    "    # 뭔가 개 노가다스럽게, 파이써닉하지 못하게 만들어놔서 좀 아쉽긴한데.. 생각보다 어렵다.. 이거 일단 완성\n",
    "            "
   ]
  }
 ],
 "metadata": {
  "kernelspec": {
   "display_name": "Python 3 (ipykernel)",
   "language": "python",
   "name": "python3"
  },
  "language_info": {
   "codemirror_mode": {
    "name": "ipython",
    "version": 3
   },
   "file_extension": ".py",
   "mimetype": "text/x-python",
   "name": "python",
   "nbconvert_exporter": "python",
   "pygments_lexer": "ipython3",
   "version": "3.9.12"
  }
 },
 "nbformat": 4,
 "nbformat_minor": 5
}
